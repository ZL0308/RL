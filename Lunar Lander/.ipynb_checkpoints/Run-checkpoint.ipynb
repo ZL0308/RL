{
 "cells": [
  {
   "cell_type": "code",
   "execution_count": 1,
   "id": "e5d42a6c",
   "metadata": {},
   "outputs": [],
   "source": [
    "import torch\n",
    "import gymnasium as gym\n",
    "from DQN import DQN\n"
   ]
  },
  {
   "cell_type": "code",
   "execution_count": 2,
   "id": "2d429858",
   "metadata": {},
   "outputs": [
    {
     "data": {
      "text/plain": [
       "DQN(\n",
       "  (fc1): Linear(in_features=8, out_features=256, bias=True)\n",
       "  (fc2): Linear(in_features=256, out_features=128, bias=True)\n",
       "  (fc3): Linear(in_features=128, out_features=4, bias=True)\n",
       ")"
      ]
     },
     "execution_count": 2,
     "metadata": {},
     "output_type": "execute_result"
    }
   ],
   "source": [
    "policy_net = DQN(8, 4)  # Initialize the DQN model (adjust the dimensions if necessary)\n",
    "policy_net.load_state_dict(torch.load('policy_net_model.pth'))\n",
    "policy_net.eval() "
   ]
  },
  {
   "cell_type": "code",
   "execution_count": 3,
   "id": "0491a61f",
   "metadata": {},
   "outputs": [],
   "source": [
    "env = gym.make(\n",
    "    \"LunarLander-v2\",\n",
    "    continuous=False,\n",
    "    gravity=-10.0,\n",
    "    enable_wind=False,\n",
    "    wind_power=15.0,\n",
    "    turbulence_power=1.5,\n",
    "    render_mode=\"human\",\n",
    ")"
   ]
  },
  {
   "cell_type": "code",
   "execution_count": 4,
   "id": "f3430535",
   "metadata": {},
   "outputs": [
    {
     "name": "stdout",
     "output_type": "stream",
     "text": [
      "Total reward: 8.504598508339726\n"
     ]
    }
   ],
   "source": [
    "state = env.reset()  # Reset the environment to start\n",
    "state = state[0]\n",
    "done = False\n",
    "total_reward = 0\n",
    "\n",
    "while not done:\n",
    "    state_tensor = torch.from_numpy(state).float().unsqueeze(0)  # Convert state to tensor\n",
    "    with torch.no_grad():  # Disable gradient calculations\n",
    "        action = policy_net(state_tensor).max(1)[1].item()  # Select the action with the highest Q-value\n",
    "\n",
    "    next_state, reward, done, _, info = env.step(action)  # Take the action in the environment\n",
    "    total_reward += reward\n",
    "    state = next_state  # Update the state\n",
    "\n",
    "print(f\"Total reward: {total_reward}\")\n",
    "env.close() "
   ]
  }
 ],
 "metadata": {
  "kernelspec": {
   "display_name": "Python 3 (ipykernel)",
   "language": "python",
   "name": "python3"
  },
  "language_info": {
   "codemirror_mode": {
    "name": "ipython",
    "version": 3
   },
   "file_extension": ".py",
   "mimetype": "text/x-python",
   "name": "python",
   "nbconvert_exporter": "python",
   "pygments_lexer": "ipython3",
   "version": "3.11.5"
  }
 },
 "nbformat": 4,
 "nbformat_minor": 5
}
